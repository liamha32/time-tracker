{
 "cells": [
  {
   "cell_type": "code",
   "execution_count": 197,
   "id": "0420165e-71d9-41c2-956c-413231477eb9",
   "metadata": {},
   "outputs": [],
   "source": [
    "import time\n",
    "from datetime import date"
   ]
  },
  {
   "cell_type": "code",
   "execution_count": 198,
   "id": "4e72c6b2-c39c-4fda-aba6-f2a9f9ee7904",
   "metadata": {},
   "outputs": [],
   "source": [
    "today = date.today()"
   ]
  },
  {
   "cell_type": "code",
   "execution_count": 199,
   "id": "9820b7ce-ae7c-4dad-b7f0-6c5686529726",
   "metadata": {},
   "outputs": [
    {
     "data": {
      "text/plain": [
       "['2', '0', '2', '4', '-', '0', '7', '-', '2', '6']"
      ]
     },
     "execution_count": 199,
     "metadata": {},
     "output_type": "execute_result"
    }
   ],
   "source": [
    "new = str(today)\n",
    "list(new)"
   ]
  },
  {
   "cell_type": "code",
   "execution_count": 200,
   "id": "c6036eb3-20ec-4cd3-82a2-600a8c113081",
   "metadata": {},
   "outputs": [
    {
     "data": {
      "text/plain": [
       "True"
      ]
     },
     "execution_count": 200,
     "metadata": {},
     "output_type": "execute_result"
    }
   ],
   "source": [
    "today == date.fromtimestamp(time.time())\n"
   ]
  },
  {
   "cell_type": "code",
   "execution_count": 201,
   "id": "d0fa967e-ab59-476d-a107-7791b9483b7d",
   "metadata": {},
   "outputs": [],
   "source": [
    "my_birthday = date(today.year, 12, 31)\n",
    "if my_birthday < today:\n",
    "    my_birthday = my_birthday.replace(year=today.year + 1)"
   ]
  },
  {
   "cell_type": "code",
   "execution_count": 202,
   "id": "0c44043c-feea-47be-8197-0577cf6001d5",
   "metadata": {},
   "outputs": [
    {
     "data": {
      "text/plain": [
       "datetime.date(2024, 12, 31)"
      ]
     },
     "execution_count": 202,
     "metadata": {},
     "output_type": "execute_result"
    }
   ],
   "source": [
    "my_birthday"
   ]
  },
  {
   "cell_type": "code",
   "execution_count": 203,
   "id": "3188b49b-dff0-4096-98bd-61b0985ec09c",
   "metadata": {},
   "outputs": [],
   "source": [
    "time_to_birthday = abs(my_birthday - today)\n",
    "yearleft = time_to_birthday.days\n",
    "\n"
   ]
  },
  {
   "cell_type": "code",
   "execution_count": 204,
   "id": "e2ba6604-60ff-4787-ad76-93973927c6c1",
   "metadata": {},
   "outputs": [],
   "source": [
    "months = {1:31,2:28,3:31,4:30,5:31,6:30,7:31,8:31,9:31,10:31,11:30,12:31}\n"
   ]
  },
  {
   "cell_type": "code",
   "execution_count": 205,
   "id": "7f9f1d95-59bd-4702-a667-0bb0167f9483",
   "metadata": {},
   "outputs": [],
   "source": [
    "good = list(new)"
   ]
  },
  {
   "cell_type": "code",
   "execution_count": 206,
   "id": "15dbecc2-327b-4784-bcf3-8053bb554b7b",
   "metadata": {},
   "outputs": [],
   "source": [
    "if int(good[5]) == 0:\n",
    "    goods = good[6]\n",
    "if int(good[5]) != 0:\n",
    "    goods = good[5] + good[6]"
   ]
  },
  {
   "cell_type": "code",
   "execution_count": 207,
   "id": "49243760-763f-4c40-aee8-a09228043b5a",
   "metadata": {},
   "outputs": [],
   "source": [
    "key = int(goods)"
   ]
  },
  {
   "cell_type": "code",
   "execution_count": 208,
   "id": "926f2554-24c1-4f3e-833d-ea75a2d46ae8",
   "metadata": {},
   "outputs": [
    {
     "data": {
      "text/plain": [
       "7"
      ]
     },
     "execution_count": 208,
     "metadata": {},
     "output_type": "execute_result"
    }
   ],
   "source": [
    "key"
   ]
  },
  {
   "cell_type": "code",
   "execution_count": 209,
   "id": "a37ab30c-d66a-4369-9c8f-ff0c625b2d85",
   "metadata": {},
   "outputs": [
    {
     "data": {
      "text/plain": [
       "31"
      ]
     },
     "execution_count": 209,
     "metadata": {},
     "output_type": "execute_result"
    }
   ],
   "source": [
    "months[key]"
   ]
  },
  {
   "cell_type": "code",
   "execution_count": 210,
   "id": "0f9c785a-4228-4e92-aa43-d7237435f254",
   "metadata": {},
   "outputs": [
    {
     "data": {
      "text/plain": [
       "'6'"
      ]
     },
     "execution_count": 210,
     "metadata": {},
     "output_type": "execute_result"
    }
   ],
   "source": [
    "good[9]"
   ]
  },
  {
   "cell_type": "code",
   "execution_count": 211,
   "id": "67e04538-693b-4964-be88-a3e4226f2a46",
   "metadata": {},
   "outputs": [],
   "source": [
    "if good[8] == \"6\":\n",
    "    \n",
    "monthleft = months[key] - (int(good[8] + good[9]))"
   ]
  },
  {
   "cell_type": "code",
   "execution_count": 212,
   "id": "f5556fd8-8436-4724-942c-cbd62042de6d",
   "metadata": {},
   "outputs": [
    {
     "name": "stdout",
     "output_type": "stream",
     "text": [
      "0.16129032258064516\n"
     ]
    }
   ],
   "source": [
    "print(monthleft / months[key])"
   ]
  },
  {
   "cell_type": "code",
   "execution_count": 213,
   "id": "aebc447c-5588-474a-954b-04bffeaf5ea9",
   "metadata": {},
   "outputs": [
    {
     "data": {
      "text/plain": [
       "158"
      ]
     },
     "execution_count": 213,
     "metadata": {},
     "output_type": "execute_result"
    }
   ],
   "source": [
    "yearleft"
   ]
  },
  {
   "cell_type": "code",
   "execution_count": 214,
   "id": "b589e49b-8fb2-453b-9151-8f250306385a",
   "metadata": {},
   "outputs": [],
   "source": [
    "mp = 1 - (monthleft / months[key]) \n",
    "yp = 1 - (yearleft / 365) "
   ]
  },
  {
   "cell_type": "code",
   "execution_count": 215,
   "id": "ec597c10-9c97-4ac2-8914-43f6d1468ef9",
   "metadata": {},
   "outputs": [
    {
     "data": {
      "text/plain": [
       "'56'"
      ]
     },
     "execution_count": 215,
     "metadata": {},
     "output_type": "execute_result"
    }
   ],
   "source": [
    "this = str(yp)\n",
    "ypp = list(this[2]) + list(this[3])\n",
    "yppp = ypp[0] + ypp[1]\n",
    "\n",
    "yppp"
   ]
  },
  {
   "cell_type": "code",
   "execution_count": 216,
   "id": "bc79b956-183e-49cb-bb89-770990dce073",
   "metadata": {},
   "outputs": [],
   "source": [
    "this1 = str(mp)\n",
    "mpp = list(this1[2]) + list(this1[3])\n",
    "mppp = mpp[0] + mpp[1]\n"
   ]
  },
  {
   "cell_type": "code",
   "execution_count": 217,
   "id": "b4f1e746-7a71-4088-908e-3aab4eaedc1c",
   "metadata": {},
   "outputs": [],
   "source": [
    "call = \"There are only \" + str(monthleft) + \" days left in the month, and only \" + str(yearleft) + \" days left in the year. Take action!\""
   ]
  },
  {
   "cell_type": "code",
   "execution_count": 218,
   "id": "5d2f71c5-ed8d-4758-b404-937095ddaa7a",
   "metadata": {},
   "outputs": [
    {
     "data": {
      "text/plain": [
       "'There are only 5 days left in the month, and only 158 days left in the year. Take action!'"
      ]
     },
     "execution_count": 218,
     "metadata": {},
     "output_type": "execute_result"
    }
   ],
   "source": [
    "call"
   ]
  },
  {
   "cell_type": "code",
   "execution_count": 219,
   "id": "d949d47f-a2d9-4eec-9582-b7143def1139",
   "metadata": {},
   "outputs": [],
   "source": [
    "call1 = \"This month is \" + str(mppp) + \"% over, and this year is \" + str(yppp) + \"% over. \""
   ]
  },
  {
   "cell_type": "code",
   "execution_count": 220,
   "id": "f507ccad-697e-4fe1-9486-f6e24b8b00aa",
   "metadata": {},
   "outputs": [],
   "source": [
    "calls = call1 + call"
   ]
  },
  {
   "cell_type": "code",
   "execution_count": 221,
   "id": "ff395cf2-3dca-4eb1-83d9-194efc7b40b0",
   "metadata": {},
   "outputs": [
    {
     "data": {
      "text/plain": [
       "'This month is 83% over, and this year is 56% over. There are only 5 days left in the month, and only 158 days left in the year. Take action!'"
      ]
     },
     "execution_count": 221,
     "metadata": {},
     "output_type": "execute_result"
    }
   ],
   "source": [
    "calls"
   ]
  },
  {
   "cell_type": "code",
   "execution_count": null,
   "id": "19f5394e-84df-43ce-8926-c14cdac729f1",
   "metadata": {},
   "outputs": [],
   "source": []
  }
 ],
 "metadata": {
  "kernelspec": {
   "display_name": "Python 3 (ipykernel)",
   "language": "python",
   "name": "python3"
  },
  "language_info": {
   "codemirror_mode": {
    "name": "ipython",
    "version": 3
   },
   "file_extension": ".py",
   "mimetype": "text/x-python",
   "name": "python",
   "nbconvert_exporter": "python",
   "pygments_lexer": "ipython3",
   "version": "3.11.7"
  }
 },
 "nbformat": 4,
 "nbformat_minor": 5
}
